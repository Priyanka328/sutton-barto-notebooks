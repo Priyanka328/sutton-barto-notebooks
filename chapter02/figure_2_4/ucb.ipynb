{
 "cells": [
  {
   "cell_type": "markdown",
   "metadata": {},
   "source": [
    "# [Sutton and Barto Notebooks](https://github.com/seungjaeryanlee/sutton-barto-notebooks): Figure 2.4"
   ]
  },
  {
   "cell_type": "markdown",
   "metadata": {},
   "source": [
    "[모두AI](https://www.modu.ai)  \n",
    "Author: Ryan Lee  \n",
    "저자: 이승재  "
   ]
  },
  {
   "cell_type": "markdown",
   "metadata": {},
   "source": [
    "![Figure 2.4](figure_2_4.png)"
   ]
  },
  {
   "cell_type": "code",
   "execution_count": 1,
   "metadata": {},
   "outputs": [],
   "source": [
    "import numpy as np\n",
    "import matplotlib.pyplot as plt\n",
    "%matplotlib inline\n",
    "%config InlineBackend.figure_format = 'retina'"
   ]
  },
  {
   "cell_type": "code",
   "execution_count": 2,
   "metadata": {},
   "outputs": [],
   "source": [
    "def argmax_all(list_):\n",
    "    \"\"\"\n",
    "    Returns all argmax of given list in a list. Different from np.argmax which \n",
    "    returns first instance only.\n",
    "    주어진 list의 최대값들의 index들을 list 형태로 반환합니다. 첫 최대값의 index만 반환하는\n",
    "    np.argmax와는 다릅니다.\n",
    "    \"\"\"\n",
    "    return np.argwhere(list_ == list_.max()).flatten()"
   ]
  },
  {
   "cell_type": "markdown",
   "metadata": {},
   "source": [
    "## Environment"
   ]
  },
  {
   "cell_type": "markdown",
   "metadata": {},
   "source": [
    "![Figure 2.1](figure_2_1.png)"
   ]
  },
  {
   "cell_type": "code",
   "execution_count": 3,
   "metadata": {},
   "outputs": [],
   "source": [
    "class Environment:\n",
    "    \"\"\"\n",
    "    The 10-armed Testbed environment shown in Figure 2.1.\n",
    "    Figure 2.1에서 보여진 10개의 행동이 가능한 Bandit입니다.\n",
    "    \"\"\"\n",
    "    def __init__(self, n_actions=10):\n",
    "        self.action_space = [i for i in range(n_actions)]\n",
    "        self.distributions = []\n",
    "        for _ in range(n_actions):\n",
    "            mean = np.random.normal(0, 1)\n",
    "            stddev = 1\n",
    "            self.distributions.append((mean, stddev))\n",
    "\n",
    "        self.optimal_action = np.argmax([d[0] for d in self.distributions])\n",
    "\n",
    "    def step(self, action):\n",
    "        \"\"\"\n",
    "        Returns the reward of the given action.\n",
    "        주어진 행동에 대한 보상을 반환합니다.\n",
    "        \"\"\"\n",
    "        mean, stddev = self.distributions[action]\n",
    "        reward = np.random.normal(loc=mean, scale=stddev)\n",
    "        return reward\n",
    "\n",
    "    def reset(self):\n",
    "        \"\"\"\n",
    "        Reset the reward distributions of the environment.\n",
    "        환경의 보상 분포들을 재설정합니다.\n",
    "        \"\"\"\n",
    "        self.distributions = []\n",
    "        for _ in range(len(self.action_space)):\n",
    "            mean = np.random.normal(0, 1)\n",
    "            stddev = 1\n",
    "            self.distributions.append((mean, stddev))\n",
    "\n",
    "        self.optimal_action = np.argmax([d[0] for d in self.distributions])"
   ]
  },
  {
   "cell_type": "markdown",
   "metadata": {},
   "source": [
    "## Agents"
   ]
  },
  {
   "cell_type": "markdown",
   "metadata": {},
   "source": [
    "These are implementations of the Bandit algorithms specified in the book. In other words, we don't use learning rate $\\alpha$.  \n",
    "책에 포함된 밴딧 알고리즘을 구현했습니다. 즉, 학습율 $\\alpha$ 을 쓰지 않는 알고리즘입니다.  "
   ]
  },
  {
   "cell_type": "code",
   "execution_count": 4,
   "metadata": {},
   "outputs": [],
   "source": [
    "class EpsilonGreedyAgent:\n",
    "    \"\"\"\n",
    "    An e-greedy agent.\n",
    "    엡실론 탐욕 에이전트입니다.\n",
    "    \"\"\"\n",
    "\n",
    "    def __init__(self, action_space, epsilon=0, name=None):\n",
    "        self.action_space = action_space\n",
    "        self.q = np.zeros(len(action_space))\n",
    "        self.action_counts = np.zeros(len(action_space), dtype=int)\n",
    "        self.epsilon = epsilon\n",
    "        self.name = '$e$ = {}'.format(epsilon) if name is None else name\n",
    "\n",
    "    def get_action(self):\n",
    "        \"\"\"\n",
    "        Choose action with epsilon-greedy policy.\n",
    "        엡실론 탐욕 정책으로 행동을 선택합니다.\n",
    "        \"\"\"\n",
    "        if np.random.random() < self.epsilon:\n",
    "            return np.random.choice(self.action_space)\n",
    "        else:\n",
    "            return np.random.choice(argmax_all(self.q))\n",
    "\n",
    "    def update_q(self, action, reward):\n",
    "        \"\"\"\n",
    "        Update appropriate Q value with given action and reward.\n",
    "        주어진 행동과 보상으로 Q값을 업데이트합니다.\n",
    "        \"\"\"\n",
    "        self.action_counts[action] += 1\n",
    "        self.q[action] += (reward - self.q[action]) / \\\n",
    "            self.action_counts[action]\n",
    "\n",
    "    def reset(self):\n",
    "        \"\"\"\n",
    "        Reset agent's Q values to 0.\n",
    "        에이전트의 Q값들을 0으로 재설정합니다.\n",
    "        \"\"\"\n",
    "        self.q = np.zeros(len(self.action_space))\n",
    "        self.sum_rewards = np.zeros(len(self.action_space))\n",
    "        self.action_counts = np.zeros(len(self.action_space), dtype=int)"
   ]
  },
  {
   "cell_type": "markdown",
   "metadata": {},
   "source": [
    "For reference, here is the Upper Confidence Bound (UCB) algorithm.  \n",
    "참조를 위해 UCB 알고리즘을 포함하였습니다.  \n",
    "\n",
    "$$\n",
    "A_t = \\text{argmax}_a \\bigg[ Q_t(a) + c \\sqrt{\\frac{\\log t}{N_t(a)}} \\bigg]\n",
    "$$"
   ]
  },
  {
   "cell_type": "code",
   "execution_count": 5,
   "metadata": {},
   "outputs": [],
   "source": [
    "class UCBAgent:\n",
    "    \"\"\"\n",
    "    An Upper Confidence Bound agent.\n",
    "    UCB 에이전트입니다.\n",
    "    \"\"\"\n",
    "\n",
    "    def __init__(self, action_space, ucb_c=0, name=None):\n",
    "        self.action_space = action_space\n",
    "        self.q = np.zeros(len(action_space))\n",
    "        self.total_action = 0\n",
    "        self.action_counts = np.zeros(len(action_space), dtype=int)\n",
    "        self.ucb_c = ucb_c\n",
    "        self.name = '$c$ = {}'.format(ucb_c) if name is None else name\n",
    "\n",
    "    def get_action(self):\n",
    "        \"\"\"\n",
    "        Choose action greedily with UCB action selection.\n",
    "        UCB로 탐욕적으로 행동을 선택합니다.\n",
    "        \"\"\"\n",
    "        ucb_terms = np.zeros(len(self.action_space))\n",
    "        for action in self.action_space:\n",
    "            if self.action_counts[action] == 0:\n",
    "                ucb_terms[action] = float(\"inf\")\n",
    "            else:\n",
    "                sqrt_term = np.sqrt(\n",
    "                    np.log(self.total_action) / self.action_counts[action])\n",
    "                ucb_terms[action] = (self.ucb_c * sqrt_term)\n",
    "\n",
    "        best_actions = argmax_all(self.q + ucb_terms)\n",
    "\n",
    "        return np.random.choice(best_actions)\n",
    "\n",
    "    def update_q(self, action, reward):\n",
    "        \"\"\"\n",
    "        Update appropriate Q value with given action and reward.\n",
    "        주어진 행동과 보상으로 Q값을 업데이트합니다.\n",
    "        \"\"\"\n",
    "        self.total_action += 1\n",
    "        self.action_counts[action] += 1\n",
    "        self.q[action] += (reward - self.q[action]) / \\\n",
    "            self.action_counts[action]\n",
    "\n",
    "    def reset(self):\n",
    "        \"\"\"\n",
    "        Reset agent's Q values to 0.\n",
    "        에이전트의 Q값들을 0으로 재설정합니다.\n",
    "        \"\"\"\n",
    "        self.q = np.zeros(len(self.action_space))\n",
    "        self.sum_rewards = np.zeros(len(self.action_space))\n",
    "        self.action_counts = np.zeros(len(self.action_space), dtype=int)"
   ]
  },
  {
   "cell_type": "markdown",
   "metadata": {},
   "source": [
    "## Plots"
   ]
  },
  {
   "cell_type": "code",
   "execution_count": 6,
   "metadata": {},
   "outputs": [],
   "source": [
    "def run(env, agent, n_steps=1000):\n",
    "    \"\"\"\n",
    "    Take actions on the bandit environment. This is called a \"run\".\n",
    "    Bandit 환경에서 n_steps 번 행동을 합니다. 이것을 하나의 '실행'이라 합니다.\n",
    "    \"\"\"\n",
    "    actions = np.zeros(n_steps, dtype=int)\n",
    "    rewards = np.zeros(n_steps)\n",
    "    for i in range(n_steps):\n",
    "        actions[i] = agent.get_action()\n",
    "        rewards[i] = env.step(actions[i])\n",
    "        agent.update_q(actions[i], rewards[i])\n",
    "\n",
    "    return (actions, rewards)"
   ]
  },
  {
   "cell_type": "code",
   "execution_count": 7,
   "metadata": {},
   "outputs": [],
   "source": [
    "def runs(env, agent, n_runs=2000, n_steps=1000):\n",
    "    \"\"\"\n",
    "    Perform multiple runs on given environment and agent, resetting\n",
    "    environment and agent after every run. Resetting environment\n",
    "    changes the actions' reward distributions, and resetting the\n",
    "    agent resets its Q values.\n",
    "    주어진 환경과 에이전트로 여러 번 실행합니다. 각 실행마다 환경과 에이전트는\n",
    "    초기화됩니다. 환경이 초기화되면 각 행동들의 보상 분포가 바뀌고, 에이전트가\n",
    "    초기화되면 Q값이 초기화됩니다.\n",
    "    \"\"\"\n",
    "    sum_rewards = np.zeros(n_steps)\n",
    "    optimal_action_counts = np.zeros(n_steps)\n",
    "\n",
    "    for i in range(n_runs):\n",
    "        env.reset()\n",
    "        agent.reset()\n",
    "\n",
    "        actions, rewards = run(env, agent, n_steps)\n",
    "\n",
    "        sum_rewards = np.add(sum_rewards, rewards)\n",
    "\n",
    "    return sum_rewards / n_steps"
   ]
  },
  {
   "cell_type": "code",
   "execution_count": 8,
   "metadata": {},
   "outputs": [],
   "source": [
    "def plot(agents, n_runs, n_steps):\n",
    "    \"\"\"\n",
    "    Plot a graph of average rewards throughout runs for agents specified by\n",
    "    their epsilon values.\n",
    "    실행들 동안 각 시간 스텝의 평균 보상을 나타내는 그래프를 그립니다.\n",
    "    \"\"\"\n",
    "    plt.xlabel('Steps')\n",
    "    plt.ylabel('Average reward', rotation='horizontal', ha='right')\n",
    "    \n",
    "    names = []\n",
    "    for agent in agents:\n",
    "        names.append(agent.name)\n",
    "        env = Environment()\n",
    "        avg_rewards = runs(env, agent, n_runs, n_steps)\n",
    "        plt.plot(avg_rewards)\n",
    "\n",
    "    plt.legend(names)\n",
    "    # plt.savefig('plot.png')\n",
    "    plt.show()"
   ]
  },
  {
   "cell_type": "code",
   "execution_count": 9,
   "metadata": {},
   "outputs": [
    {
     "data": {
      "image/png": "[encoded data removed]",
      "text/plain": [
       "<Figure size 432x288 with 1 Axes>"
      ]
     },
     "metadata": {
      "image/png": {
       "height": 263,
       "width": 458
      }
     },
     "output_type": "display_data"
    }
   ],
   "source": [
    "env = Environment()\n",
    "agents = [\n",
    "    EpsilonGreedyAgent(env.action_space, epsilon=0.1),\n",
    "    UCBAgent(env.action_space, ucb_c=2)\n",
    "]\n",
    "\n",
    "plot(agents, n_runs=2000, n_steps=1000)"
   ]
  },
  {
   "cell_type": "markdown",
   "metadata": {},
   "source": [
    "*Exercise 2.8: UCB Spikes*\n",
    "\n",
    "In Figure 2.4 the UCB algorithm shows a distinct spike in performance on the 11th step. Why is this? Note that for your answer to be fully satisfactory it must explain both why the reward increases on the 11th step and why it decreases on the subsequent steps. Hint: if c = 1, then the spike is less prominent.\n",
    "\n",
    "Figure 2.4에서 UCB 알고리즘은 11번째 스텝에서 큰 변동폭이 있습니다. 이 이유는 무엇일까요? 완전한 답변은 보상이 11번째 스텝에서 왜 증가하는지, 또 그 후에 왜 감소하는지 설명해야 합니다."
   ]
  }
 ],
 "metadata": {
  "kernelspec": {
   "display_name": "Python [conda env:paper]",
   "language": "python",
   "name": "conda-env-paper-py"
  },
  "language_info": {
   "codemirror_mode": {
    "name": "ipython",
    "version": 3
   },
   "file_extension": ".py",
   "mimetype": "text/x-python",
   "name": "python",
   "nbconvert_exporter": "python",
   "pygments_lexer": "ipython3",
   "version": "3.6.5"
  },
  "varInspector": {
   "cols": {
    "lenName": 16,
    "lenType": 16,
    "lenVar": 40
   },
   "kernels_config": {
    "python": {
     "delete_cmd_postfix": "",
     "delete_cmd_prefix": "del ",
     "library": "var_list.py",
     "varRefreshCmd": "print(var_dic_list())"
    },
    "r": {
     "delete_cmd_postfix": ") ",
     "delete_cmd_prefix": "rm(",
     "library": "var_list.r",
     "varRefreshCmd": "cat(var_dic_list()) "
    }
   },
   "types_to_exclude": [
    "module",
    "function",
    "builtin_function_or_method",
    "instance",
    "_Feature"
   ],
   "window_display": false
  }
 },
 "nbformat": 4,
 "nbformat_minor": 2
}
