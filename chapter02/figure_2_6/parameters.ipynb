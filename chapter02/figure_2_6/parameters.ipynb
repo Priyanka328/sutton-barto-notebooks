{
 "cells": [
  {
   "cell_type": "markdown",
   "metadata": {},
   "source": [
    "# [Sutton and Barto Notebooks](https://github.com/seungjaeryanlee/sutton-barto-notebooks): Figure 2.6"
   ]
  },
  {
   "cell_type": "markdown",
   "metadata": {},
   "source": [
    "[모두AI](https://www.modu.ai)  \n",
    "Author: Ryan Lee  \n",
    "저자: 이승재  "
   ]
  },
  {
   "cell_type": "markdown",
   "metadata": {},
   "source": [
    "![Figure 2.6](figure_2_6.png)"
   ]
  },
  {
   "cell_type": "code",
   "execution_count": 1,
   "metadata": {},
   "outputs": [],
   "source": [
    "import numpy as np\n",
    "import matplotlib.pyplot as plt\n",
    "%matplotlib inline\n",
    "%config InlineBackend.figure_format = 'retina'"
   ]
  },
  {
   "cell_type": "code",
   "execution_count": 2,
   "metadata": {},
   "outputs": [],
   "source": [
    "def argmax_all(list_):\n",
    "    \"\"\"\n",
    "    Returns all argmax of given list in a list. Different from np.argmax which\n",
    "    returns first instance only.\n",
    "    주어진 list의 최대값들의 index들을 list 형태로 반환합니다. 첫 최대값의 index만 반환하는\n",
    "    np.argmax와는 다릅니다.\n",
    "    \"\"\"\n",
    "    return np.argwhere(list_ == list_.max()).flatten()"
   ]
  },
  {
   "cell_type": "markdown",
   "metadata": {},
   "source": [
    "## Environment"
   ]
  },
  {
   "cell_type": "markdown",
   "metadata": {},
   "source": [
    "![Figure 2.1](figure_2_1.png)"
   ]
  },
  {
   "cell_type": "code",
   "execution_count": 3,
   "metadata": {},
   "outputs": [],
   "source": [
    "class Environment:\n",
    "    \"\"\"\n",
    "    A variant of the 10-armed Testbed environment shown in Figure 2.1. The\n",
    "    means of rewards are now choosed from a distribution with mean 4\n",
    "    instead of 0 now.\n",
    "    Figure 2.1에서 보여진 10개의 행동이 가능한 Bandit의 변형입니다. 이제 보상 분포의\n",
    "    기대값들은 평균 0이 아니라 평균 4의 분포에서 고릅니다.\n",
    "    \"\"\"\n",
    "    def __init__(self, n_actions=10):\n",
    "        self.action_space = [i for i in range(n_actions)]\n",
    "        self.distributions = []\n",
    "        for _ in range(n_actions):\n",
    "            mean = np.random.normal(0, 1)\n",
    "            stddev = 1\n",
    "            self.distributions.append((mean, stddev))\n",
    "\n",
    "        self.optimal_action = np.argmax([d[0] for d in self.distributions])\n",
    "\n",
    "    def step(self, action):\n",
    "        \"\"\"\n",
    "        Returns the reward of the given action.\n",
    "        주어진 행동에 대한 보상을 반환합니다.\n",
    "        \"\"\"\n",
    "        mean, stddev = self.distributions[action]\n",
    "        reward = np.random.normal(loc=mean, scale=stddev)\n",
    "        return reward\n",
    "\n",
    "    def reset(self):\n",
    "        \"\"\"\n",
    "        Reset the reward distributions of the environment.\n",
    "        환경의 보상 분포들을 재설정합니다.\n",
    "        \"\"\"\n",
    "        self.distributions = []\n",
    "        for _ in range(len(self.action_space)):\n",
    "            mean = np.random.normal(0, 1)\n",
    "            stddev = 1\n",
    "            self.distributions.append((mean, stddev))\n",
    "\n",
    "        self.optimal_action = np.argmax([d[0] for d in self.distributions])"
   ]
  },
  {
   "cell_type": "markdown",
   "metadata": {},
   "source": [
    "## Agent"
   ]
  },
  {
   "cell_type": "code",
   "execution_count": 4,
   "metadata": {},
   "outputs": [],
   "source": [
    "class EpsilonGreedyAgent:\n",
    "    \"\"\"\n",
    "    An e-greedy agent.\n",
    "    엡실론 탐욕 에이전트입니다.\n",
    "    \"\"\"\n",
    "    name='$\\\\epsilon$-greedy'\n",
    "\n",
    "    def __init__(self, action_space, parameter=0):\n",
    "        self.action_space = action_space\n",
    "        self.q = np.zeros(len(action_space))\n",
    "        self.action_counts = np.zeros(len(action_space), dtype=int)\n",
    "        self.epsilon = parameter\n",
    "\n",
    "    def get_action(self):\n",
    "        \"\"\"\n",
    "        Choose action with epsilon-greedy policy.\n",
    "        엡실론 탐욕 정책으로 행동을 선택합니다.\n",
    "        \"\"\"\n",
    "        if np.random.random() < self.epsilon:\n",
    "            return np.random.choice(self.action_space)\n",
    "        else:\n",
    "            return np.random.choice(argmax_all(self.q))\n",
    "\n",
    "    def update(self, action, reward):\n",
    "        \"\"\"\n",
    "        Update appropriate Q value with given action and reward.\n",
    "        주어진 행동과 보상으로 Q값을 업데이트합니다.\n",
    "        \"\"\"\n",
    "        self.action_counts[action] += 1\n",
    "        self.q[action] += (reward - self.q[action]) / self.action_counts[action]\n",
    "\n",
    "    def reset(self):\n",
    "        \"\"\"\n",
    "        Reset agent's Q values to 0.\n",
    "        에이전트의 Q값들을 0으로 재설정합니다.\n",
    "        \"\"\"\n",
    "        self.q = np.zeros(len(self.action_space))\n",
    "        self.sum_rewards = np.zeros(len(self.action_space))\n",
    "        self.action_counts = np.zeros(len(self.action_space), dtype=int)"
   ]
  },
  {
   "cell_type": "code",
   "execution_count": 5,
   "metadata": {},
   "outputs": [],
   "source": [
    "class OptimisticAgent:\n",
    "    \"\"\"\n",
    "    An optimistic e-greedy agent.\n",
    "    엡실론 탐욕 에이전트입니다.\n",
    "    \"\"\"\n",
    "    name = 'Optimistic'\n",
    "\n",
    "    def __init__(self, action_space, parameter=0, epsilon=0, learning_rate=0.9):\n",
    "        self.action_space = action_space\n",
    "        self.initial_q = parameter\n",
    "        self.epsilon = epsilon\n",
    "        self.learning_rate = learning_rate\n",
    "        self.q = np.full(len(action_space), self.initial_q, dtype=np.float64)\n",
    "\n",
    "    def get_action(self):\n",
    "        \"\"\"\n",
    "        Choose action with epsilon-greedy policy.\n",
    "        엡실론 탐욕 정책으로 행동을 선택합니다.\n",
    "        \"\"\"\n",
    "        if np.random.random() < self.epsilon:\n",
    "            return np.random.choice(self.action_space)\n",
    "        else:\n",
    "            return np.random.choice(argmax_all(self.q))\n",
    "\n",
    "    def update(self, action, reward):\n",
    "        \"\"\"\n",
    "        Update appropriate Q value with given action and reward.\n",
    "        주어진 행동과 보상으로 Q값을 업데이트합니다.\n",
    "        \"\"\"\n",
    "        self.q[action] += self.learning_rate * (reward - self.q[action])\n",
    "\n",
    "    def reset(self):\n",
    "        \"\"\"\n",
    "        Reset agent's Q values to 0.\n",
    "        에이전트의 Q값들을 0으로 재설정합니다.\n",
    "        \"\"\"\n",
    "        self.q = np.full(len(self.action_space), self.initial_q, dtype=np.float64)"
   ]
  },
  {
   "cell_type": "code",
   "execution_count": 6,
   "metadata": {},
   "outputs": [],
   "source": [
    "class UCBAgent:\n",
    "    \"\"\"\n",
    "    An Upper Confidence Bound agent.\n",
    "    UCB 에이전트입니다.\n",
    "    \"\"\"\n",
    "    name = 'UCB'\n",
    "\n",
    "    def __init__(self, action_space, parameter=0):\n",
    "        self.action_space = action_space\n",
    "        self.q = np.zeros(len(action_space))\n",
    "        self.total_action = 0\n",
    "        self.action_counts = np.zeros(len(action_space), dtype=int)\n",
    "        self.ucb_c = parameter\n",
    "\n",
    "    def get_action(self):\n",
    "        \"\"\"\n",
    "        Choose action greedily with UCB action selection.\n",
    "        UCB로 탐욕적으로 행동을 선택합니다.\n",
    "        \"\"\"\n",
    "        ucb_terms = np.zeros(len(self.action_space))\n",
    "        for action in self.action_space:\n",
    "            if self.action_counts[action] == 0:\n",
    "                ucb_terms[action] = float(\"inf\")\n",
    "            else:\n",
    "                ucb_terms[action] = (self.ucb_c * \n",
    "                    np.sqrt(np.log(self.total_action) / self.action_counts[action]))\n",
    "\n",
    "        best_actions = argmax_all(self.q + ucb_terms)\n",
    "\n",
    "        return np.random.choice(best_actions)\n",
    "\n",
    "    def update(self, action, reward):\n",
    "        \"\"\"\n",
    "        Update appropriate Q value with given action and reward.\n",
    "        주어진 행동과 보상으로 Q값을 업데이트합니다.\n",
    "        \"\"\"\n",
    "        self.total_action += 1\n",
    "        self.action_counts[action] += 1\n",
    "        self.q[action] += (reward - self.q[action]) / self.action_counts[action]\n",
    "\n",
    "    def reset(self):\n",
    "        \"\"\"\n",
    "        Reset agent's Q values to 0.\n",
    "        에이전트의 Q값들을 0으로 재설정합니다.\n",
    "        \"\"\"\n",
    "        self.q = np.zeros(len(self.action_space))\n",
    "        self.sum_rewards = np.zeros(len(self.action_space))\n",
    "        self.action_counts = np.zeros(len(self.action_space), dtype=int)"
   ]
  },
  {
   "cell_type": "code",
   "execution_count": 7,
   "metadata": {},
   "outputs": [],
   "source": [
    "class PreferenceAgent:\n",
    "    \"\"\"\n",
    "    A prefernece-based agent.\n",
    "    선호 기반 에이전트입니다.\n",
    "    \"\"\"\n",
    "    name = 'Gradient'\n",
    "\n",
    "    def __init__(self, action_space, parameter=0.9):\n",
    "        self.action_space = action_space\n",
    "        self.learning_rate = parameter\n",
    "        self.h = np.zeros(len(action_space), dtype=float)\n",
    "        self.action_count = 0\n",
    "        \n",
    "        self.baseline = 0\n",
    "\n",
    "    def get_action_p(self):\n",
    "        \"\"\"\n",
    "        Get probabilities of choosing each action.\n",
    "        H값으로부터 행동을 고를 확률을 계산합니다.\n",
    "        \"\"\"\n",
    "        e_h = np.exp(self.h)\n",
    "        return e_h / np.sum(e_h)\n",
    "\n",
    "    def get_action(self):\n",
    "        \"\"\"\n",
    "        Choose action using preference.\n",
    "        선호도를 고려하여 행동을 선택합니다.\n",
    "        \"\"\"\n",
    "        return np.random.choice(self.action_space, p=self.get_action_p())\n",
    "\n",
    "    def update(self, action, reward):\n",
    "        \"\"\"\n",
    "        Update appropriate H value with given action and reward.\n",
    "        주어진 행동과 보상으로 H값을 업데이트합니다.\n",
    "        \"\"\"\n",
    "        action_p = self.get_action_p()\n",
    "\n",
    "        self.action_count += 1\n",
    "        self.baseline += (reward - self.baseline) / self.action_count\n",
    "        baseline = self.baseline\n",
    "\n",
    "        for a in self.action_space:\n",
    "            if action == a:\n",
    "                self.h[a] += self.learning_rate * (reward - baseline) * (1 - action_p[a])\n",
    "            else:\n",
    "                self.h[a] -= self.learning_rate * (reward - baseline) * action_p[a]\n",
    "\n",
    "    def reset(self):\n",
    "        \"\"\"\n",
    "        Reset agent's H values to 0.\n",
    "        에이전트의 H값들을 0으로 재설정합니다.\n",
    "        \"\"\"\n",
    "        self.h = np.zeros(len(self.action_space), dtype=float)"
   ]
  },
  {
   "cell_type": "markdown",
   "metadata": {},
   "source": [
    "## Plots"
   ]
  },
  {
   "cell_type": "code",
   "execution_count": 8,
   "metadata": {},
   "outputs": [],
   "source": [
    "def run(env, agent, n_steps=1000):\n",
    "    \"\"\"\n",
    "    Take actions on the bandit environment. This is called a \"run\".\n",
    "    Bandit 환경에서 n_steps 번 행동을 합니다. 이것을 하나의 '실행'이라 합니다.\n",
    "    \"\"\"\n",
    "    actions = np.zeros(n_steps, dtype=int)\n",
    "    sum_reward = 0\n",
    "    for i in range(n_steps):\n",
    "        actions[i] = agent.get_action()\n",
    "        reward = env.step(actions[i])\n",
    "        agent.update(actions[i], reward)\n",
    "        sum_reward += reward\n",
    "\n",
    "    return sum_reward / n_steps"
   ]
  },
  {
   "cell_type": "code",
   "execution_count": 9,
   "metadata": {},
   "outputs": [],
   "source": [
    "def runs(env, agent, n_runs=100, n_steps=1000):\n",
    "    \"\"\"\n",
    "    Perform multiple runs on given environment and agent, resetting\n",
    "    environment and agent after every run. Resetting environment\n",
    "    changes the actions' reward distributions, and resetting the\n",
    "    agent resets its Q values.\n",
    "    주어진 환경과 에이전트로 여러 번 실행합니다. 각 실행마다 환경과 에이전트는\n",
    "    초기화됩니다. 환경이 초기화되면 각 행동들의 보상 분포가 바뀌고, 에이전트가\n",
    "    초기화되면 Q값이 초기화됩니다.\n",
    "    \"\"\"\n",
    "    sum_reward = 0\n",
    "\n",
    "    for i in range(n_runs):\n",
    "        env.reset()\n",
    "        agent.reset()\n",
    "        sum_reward += run(env, agent, n_steps)\n",
    "\n",
    "    return sum_reward / n_runs"
   ]
  },
  {
   "cell_type": "code",
   "execution_count": 10,
   "metadata": {},
   "outputs": [],
   "source": [
    "def plot(agent_classes, param_values, n_steps):\n",
    "    \"\"\"\n",
    "    Plot a graph of average rewards over n steps for parameters.\n",
    "    \"\"\"\n",
    "\n",
    "    names = []\n",
    "    for Agent in agent_classes:\n",
    "        names.append(Agent.name)\n",
    "        env = Environment()\n",
    "\n",
    "        average_rewards = []\n",
    "        for param_value in param_values:\n",
    "            agent = Agent(env.action_space, parameter=param_value)\n",
    "            average_reward = run(env, agent, n_steps)\n",
    "            average_rewards.append(average_reward)\n",
    "\n",
    "        plt.semilogx(param_values, average_rewards, basex=2)\n",
    "\n",
    "    plt.legend(names)\n",
    "    plt.xlabel('Hyperparameter values')\n",
    "    plt.xticks(param_values)\n",
    "    plt.ylabel('Average reward over {} steps'.format(n_steps),\n",
    "               rotation='horizontal',\n",
    "               ha='right')\n",
    "    # plt.savefig('plot.png')\n",
    "    plt.show()"
   ]
  },
  {
   "cell_type": "code",
   "execution_count": 11,
   "metadata": {},
   "outputs": [
    {
     "data": {
      "image/png": "[encoded data removed]",
      "text/plain": [
       "<Figure size 432x288 with 1 Axes>"
      ]
     },
     "metadata": {
      "image/png": {
       "height": 265,
       "width": 542
      }
     },
     "output_type": "display_data"
    }
   ],
   "source": [
    "env = Environment()\n",
    "agent_classes = [\n",
    "    EpsilonGreedyAgent,\n",
    "    OptimisticAgent,\n",
    "    UCBAgent,\n",
    "    PreferenceAgent,\n",
    "]\n",
    "plot(agent_classes, [1/128, 1/64, 1/32, 1/16, 1/8, 1/4, 1/2, 1, 2, 4], 1000)"
   ]
  }
 ],
 "metadata": {
  "kernelspec": {
   "display_name": "Python [conda env:paper]",
   "language": "python",
   "name": "conda-env-paper-py"
  },
  "language_info": {
   "codemirror_mode": {
    "name": "ipython",
    "version": 3
   },
   "file_extension": ".py",
   "mimetype": "text/x-python",
   "name": "python",
   "nbconvert_exporter": "python",
   "pygments_lexer": "ipython3",
   "version": "3.6.5"
  }
 },
 "nbformat": 4,
 "nbformat_minor": 2
}
