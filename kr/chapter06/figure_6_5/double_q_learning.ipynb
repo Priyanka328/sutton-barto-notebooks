{
 "cells": [
  {
   "cell_type": "markdown",
   "metadata": {},
   "source": [
    "# [Sutton and Barto Notebooks](https://github.com/seungjaeryanlee/sutton-barto-notebooks): Figure 6.5"
   ]
  },
  {
   "cell_type": "markdown",
   "metadata": {},
   "source": [
    "[모두AI](https://www.modu.ai)  \n",
    "저자: 이승재  "
   ]
  },
  {
   "cell_type": "markdown",
   "metadata": {},
   "source": [
    "![Figure 6.5](figure_6_5.png)"
   ]
  },
  {
   "cell_type": "code",
   "execution_count": 1,
   "metadata": {},
   "outputs": [],
   "source": [
    "import numpy as np\n",
    "import matplotlib.pyplot as plt\n",
    "%matplotlib inline\n",
    "%config InlineBackend.figure_format = 'retina'"
   ]
  },
  {
   "cell_type": "code",
   "execution_count": 2,
   "metadata": {},
   "outputs": [],
   "source": [
    "def argmax_all(list_):\n",
    "    \"\"\"\n",
    "    주어진 list의 최대값들의 index들을 list 형태로 반환합니다. 첫 최대값의 index만\n",
    "    반환하는 np.argmax와는 다릅니다.\n",
    "    \"\"\"\n",
    "    return np.argwhere(list_ == np.max(list_)).flatten().tolist()"
   ]
  },
  {
   "cell_type": "code",
   "execution_count": 3,
   "metadata": {},
   "outputs": [],
   "source": [
    "from enum import IntEnum\n",
    "class Action(IntEnum):\n",
    "    \"\"\"\n",
    "    상태 A에서 선택 가능한 행동들.\n",
    "    \"\"\"\n",
    "    LEFT = 0\n",
    "    RIGHT = 1"
   ]
  },
  {
   "cell_type": "code",
   "execution_count": 4,
   "metadata": {},
   "outputs": [],
   "source": [
    "class Environment:\n",
    "    \"\"\"\n",
    "    Sutton and Barto Figure 6.5의 환경입니다.\n",
    "    \"\"\"\n",
    "    def __init__(self, n_actions=10):\n",
    "        self.state = 'A'\n",
    "        self.NUMBER_OF_ACTIONS = n_actions # Number of actions in state B\n",
    "\n",
    "    def action_space(self):\n",
    "        \"\"\"\n",
    "        현재 상태에서의 가능한 모든 행동을 반환합니다.\n",
    "        \"\"\"\n",
    "        if self.state == 'A':\n",
    "            return [Action.LEFT, Action.RIGHT]\n",
    "        elif self.state == 'B':\n",
    "            return range(self.NUMBER_OF_ACTIONS)\n",
    "        else:\n",
    "            return []\n",
    "\n",
    "    def is_terminal(self):\n",
    "        \"\"\"\n",
    "        현재 상태가 끝 상태인지 확인합니다.\n",
    "        \"\"\"\n",
    "        return self.state == 'X'\n",
    "\n",
    "    def reset(self):\n",
    "        \"\"\"\n",
    "        환경을 초기화하고 첫 상태를 반환합니다.\n",
    "        \"\"\"\n",
    "        self.state = 'A'\n",
    "        return self.state\n",
    "\n",
    "    def step(self, action):\n",
    "        \"\"\"\n",
    "        주어진 행동을 취하고 (다음 상태, 보상, 에피소드가 끝남)를 반환합니다.\n",
    "        \"\"\"\n",
    "        if self.state == 'A' and action == Action.LEFT:\n",
    "            self.state = 'B'\n",
    "            return ('B', 0, False)\n",
    "        elif self.state == 'A' and action == Action.RIGHT:\n",
    "            self.state = 'X'\n",
    "            return ('X', 0, True)\n",
    "        else:\n",
    "            self.state = 'X'\n",
    "            return ('X', np.random.normal(-0.1, 1), True)"
   ]
  },
  {
   "cell_type": "code",
   "execution_count": 5,
   "metadata": {},
   "outputs": [],
   "source": [
    "class QLearningAgent:\n",
    "    def __init__(self,\n",
    "                 env,\n",
    "                 epsilon=0.1,\n",
    "                 learning_rate=0.1,\n",
    "                 discount_factor=1):\n",
    "        \"\"\"\n",
    "        Q 테이블을 초기화하고 주어진 환경을 보관합니다.\n",
    "        \"\"\"\n",
    "        self.q_table = {\n",
    "            'A': [0, 0],\n",
    "            'B': [0] * env.NUMBER_OF_ACTIONS\n",
    "        }\n",
    "        self.env = env\n",
    "        self.epsilon = epsilon\n",
    "        self.learning_rate = learning_rate\n",
    "        self.discount_factor = discount_factor\n",
    "\n",
    "    def get_action(self, state):\n",
    "        \"\"\"\n",
    "        엡실론 탐욕 정책과 Q테이블을 이용해 주어진 상태에서 할 행동을 반환합니다.\n",
    "        \"\"\"\n",
    "        if np.random.random() < self.epsilon:\n",
    "            return np.random.choice(self.env.action_space())\n",
    "        else:\n",
    "            best_actions = argmax_all(self.q_table[state])\n",
    "            return np.random.choice(best_actions)\n",
    "\n",
    "    def update(self, state, action, reward, next_state, done):\n",
    "        \"\"\"\n",
    "        Q러닝을 통해 Q 테이블을 업데이트합니다.\n",
    "        \"\"\"\n",
    "        if done:\n",
    "            target = reward\n",
    "        else:\n",
    "            target = reward + \\\n",
    "                     self.discount_factor * np.max(self.q_table[next_state])\n",
    "\n",
    "        self.q_table[state][action] += self.learning_rate * \\\n",
    "                                       (target - self.q_table[state][action])\n",
    "\n",
    "    def reset(self):\n",
    "        \"\"\"\n",
    "        Q테이블을 초기화합니다.\n",
    "        \"\"\"\n",
    "        self.q_table={\n",
    "            'A': [0, 0],\n",
    "            'B': [0] * self.env.NUMBER_OF_ACTIONS\n",
    "        }"
   ]
  },
  {
   "cell_type": "code",
   "execution_count": 6,
   "metadata": {},
   "outputs": [],
   "source": [
    "class DoubleQLearningAgent:\n",
    "    def __init__(self,\n",
    "                 env,\n",
    "                 epsilon=0.1,\n",
    "                 learning_rate=0.1,\n",
    "                 discount_factor=1):\n",
    "        \"\"\"\n",
    "        Q 테이블을 초기화하고 주어진 환경을 보관합니다.\n",
    "        \"\"\"\n",
    "        self.q1 = {'A': [0, 0], 'B': [0] * env.NUMBER_OF_ACTIONS}\n",
    "        self.q2 = {'A': [0, 0], 'B': [0] * env.NUMBER_OF_ACTIONS}\n",
    "        self.q_table = [self.q1, self.q2]\n",
    "        self.env = env\n",
    "        self.epsilon = epsilon\n",
    "        self.learning_rate = learning_rate\n",
    "        self.discount_factor = discount_factor\n",
    "\n",
    "    def get_action(self, state):\n",
    "        \"\"\"\n",
    "        엡실론 탐욕 정책과 Q테이블을 이용해 주어진 상태에서 할 행동을 반환합니다.\n",
    "        \"\"\"\n",
    "        if np.random.random() < self.epsilon:\n",
    "            return np.random.choice(self.env.action_space())\n",
    "        else:\n",
    "            q_state = np.add(self.q1[state], self.q2[state])\n",
    "            best_actions = argmax_all(q_state)\n",
    "            return np.random.choice(best_actions)\n",
    "\n",
    "    def update(self, state, action, reward, next_state, done):\n",
    "        \"\"\"\n",
    "        더블 Q러닝을 통해 Q 테이블을 업데이트합니다.\n",
    "        \"\"\"\n",
    "        if np.random.choice(['q1', 'q2']) == 'q1':\n",
    "            if done:\n",
    "                target = reward\n",
    "            else:\n",
    "                target = reward + self.discount_factor * \\\n",
    "                    self.q2[next_state][np.argmax(self.q1[next_state])]\n",
    "\n",
    "            self.q1[state][action] += self.learning_rate * \\\n",
    "                                     (target - self.q1[state][action])\n",
    "        else:\n",
    "            if done:\n",
    "                target = reward\n",
    "            else:\n",
    "                target = reward + self.discount_factor * \\\n",
    "                    self.q1[next_state][np.argmax(self.q2[next_state])]\n",
    "\n",
    "            self.q2[state][action] += self.learning_rate * \\\n",
    "                                     (target - self.q2[state][action])\n",
    "\n",
    "    def reset(self):\n",
    "        \"\"\"\n",
    "        Q테이블을 초기화합니다.\n",
    "        \"\"\"\n",
    "        self.q1 = {'A': [0, 0], 'B': [0] * self.env.NUMBER_OF_ACTIONS}\n",
    "        self.q2 = {'A': [0, 0], 'B': [0] * self.env.NUMBER_OF_ACTIONS}\n",
    "        self.q_table = [self.q1, self.q2]"
   ]
  },
  {
   "cell_type": "code",
   "execution_count": 7,
   "metadata": {},
   "outputs": [],
   "source": [
    "def run_episode(agent, env):\n",
    "    \"\"\"\n",
    "    주어진 Agent 클래스로 에이전트를 만들어서 에피소드를 1번 실행합니다. (디버깅 전용)\n",
    "    \"\"\"\n",
    "    state = env.reset()\n",
    "    \n",
    "    done = False\n",
    "    while not done:\n",
    "        action = agent.get_action(state)\n",
    "        next_state, reward, done = env.step(action)\n",
    "\n",
    "        print('State      : ', state)\n",
    "        print('Action     : ', action)\n",
    "        print('Reward     : ', reward)\n",
    "        print('Next State : ', next_state)\n",
    "\n",
    "        agent.update(state, action, reward, next_state, done)\n",
    "        print(agent.q_table)\n",
    "        \n",
    "        state = next_state"
   ]
  },
  {
   "cell_type": "code",
   "execution_count": 8,
   "metadata": {},
   "outputs": [
    {
     "name": "stdout",
     "output_type": "stream",
     "text": [
      "State      :  A\n",
      "Action     :  1\n",
      "Reward     :  0\n",
      "Next State :  X\n",
      "{'A': [0, 0.0], 'B': [0, 0, 0, 0, 0, 0, 0, 0, 0, 0]}\n"
     ]
    }
   ],
   "source": [
    "env = Environment()\n",
    "agent = QLearningAgent(env)\n",
    "run_episode(agent, env)"
   ]
  },
  {
   "cell_type": "code",
   "execution_count": 9,
   "metadata": {},
   "outputs": [
    {
     "name": "stdout",
     "output_type": "stream",
     "text": [
      "State      :  A\n",
      "Action     :  1\n",
      "Reward     :  0\n",
      "Next State :  X\n",
      "[{'A': [0, 0.0], 'B': [0, 0, 0, 0, 0, 0, 0, 0, 0, 0]}, {'A': [0, 0], 'B': [0, 0, 0, 0, 0, 0, 0, 0, 0, 0]}]\n"
     ]
    }
   ],
   "source": [
    "env = Environment()\n",
    "agent = DoubleQLearningAgent(env)\n",
    "run_episode(agent, env)"
   ]
  },
  {
   "cell_type": "code",
   "execution_count": 10,
   "metadata": {},
   "outputs": [],
   "source": [
    "def run_trials(n_trials, n_episodes, agent, env):\n",
    "    \"\"\"\n",
    "    주어진 Agent와 Environment로 활용해서 트라이얼을 n_trial번 실행합니다. 각\n",
    "    트라이얼마다 에피소드를 n_episode번 실행하며, 매 트라이얼마다 Q 테이블을 초기화합니다.\n",
    "    \"\"\"\n",
    "    left_selected_per_episode = [0] * n_episodes\n",
    "\n",
    "    for _ in range(n_trials):\n",
    "        agent.reset()\n",
    "        for episode_i in range(n_episodes):\n",
    "            state = env.reset()\n",
    "            \n",
    "            done = False\n",
    "            while not done:\n",
    "                action = agent.get_action(state)\n",
    "                next_state, reward, done = env.step(action)\n",
    "                agent.update(state, action, reward, next_state, done)\n",
    "\n",
    "                if state == 'A' and action == Action.LEFT:\n",
    "                    left_selected_per_episode[episode_i] += 1\n",
    "\n",
    "                state = next_state\n",
    "\n",
    "    # Calculate Percentage\n",
    "    left_select_percentages = np.divide(left_selected_per_episode, n_trials)\n",
    "    left_select_percentages[0] = 0.5\n",
    "    return left_select_percentages"
   ]
  },
  {
   "cell_type": "code",
   "execution_count": 11,
   "metadata": {},
   "outputs": [
    {
     "data": {
      "image/png": "[encoded data removed]",
      "text/plain": [
       "<Figure size 432x288 with 1 Axes>"
      ]
     },
     "metadata": {
      "image/png": {
       "height": 252,
       "width": 373
      }
     },
     "output_type": "display_data"
    }
   ],
   "source": [
    "NUM_TRIALS = 2000  # 트라이얼 횟수: 오래 걸리니 100, 1000정도 추천\n",
    "NUM_EPISODES = 300 # 트라이얼마다 행하는 에피소드 횟수\n",
    "\n",
    "env1 = Environment()\n",
    "agent1 = QLearningAgent(env1)\n",
    "p1 = run_trials(NUM_TRIALS, NUM_EPISODES, agent1, env1)\n",
    "\n",
    "env2 = Environment()\n",
    "agent2 = DoubleQLearningAgent(env2)\n",
    "p2 = run_trials(NUM_TRIALS, NUM_EPISODES, agent2, env2)\n",
    "\n",
    "plt.ylim(0, 1)\n",
    "plt.plot(range(NUM_EPISODES), p1)\n",
    "plt.plot(range(NUM_EPISODES), p2)\n",
    "plt.plot(range(NUM_EPISODES), [agent1.epsilon / 2] * NUM_EPISODES)\n",
    "plt.legend(['Q-Learning', 'Double Q-Learning', 'Optimal'])\n",
    "# plt.savefig('result.png')\n",
    "plt.show()"
   ]
  },
  {
   "cell_type": "markdown",
   "metadata": {},
   "source": [
    "## 추가 자료"
   ]
  },
  {
   "cell_type": "markdown",
   "metadata": {},
   "source": [
    "이것은 책에 포함되어 있지 않은 내용이자만, Q러닝이 왜 과도하게 Q값을 높게 설정하게 되는지 이해할 때 도움이 될 수 있습니다."
   ]
  },
  {
   "cell_type": "markdown",
   "metadata": {},
   "source": [
    "### Q Value Plot"
   ]
  },
  {
   "cell_type": "markdown",
   "metadata": {},
   "source": [
    "A에서 왼쪽 행동의 Q값을 그린 그래프입니다."
   ]
  },
  {
   "cell_type": "code",
   "execution_count": 12,
   "metadata": {},
   "outputs": [],
   "source": [
    "def plot_q_values(agent, env, n_episodes=300):\n",
    "    \"\"\"\n",
    "    에피소드동안 Q값들을 보여주는 그래프를 그립니다.\n",
    "    \"\"\"\n",
    "    q_values = []\n",
    "    if isinstance(agent, DoubleQLearningAgent):\n",
    "        q1_values = []\n",
    "        q2_values = []\n",
    "\n",
    "    for _ in range(n_episodes):\n",
    "        state = env.reset()\n",
    "\n",
    "        done = False\n",
    "        while not done:\n",
    "            action = agent.get_action(state)\n",
    "            next_state, reward, done = env.step(action)\n",
    "            agent.update(state, action, reward, next_state, done)\n",
    "            state = next_state\n",
    "\n",
    "        if isinstance(agent, QLearningAgent):\n",
    "            q_values.append(agent.q_table['A'][Action.LEFT])\n",
    "        elif isinstance(agent, DoubleQLearningAgent):\n",
    "            q1_values.append(agent.q1['A'][Action.LEFT])\n",
    "            q2_values.append(agent.q2['A'][Action.LEFT])\n",
    "            q_values.append(agent.q1['A'][Action.LEFT]\n",
    "                            + agent.q2['A'][Action.LEFT])\n",
    "        else:\n",
    "            raise ValueError('Unknown Agent.')\n",
    "\n",
    "    plt.ylim(-0.5, 0.5)\n",
    "    if isinstance(agent, QLearningAgent):\n",
    "        plt.plot(range(n_episodes), q_values)\n",
    "        plt.legend(['Q'])\n",
    "    else:\n",
    "        plt.plot(range(n_episodes), q1_values)\n",
    "        plt.plot(range(n_episodes), q2_values)\n",
    "        plt.plot(range(n_episodes), q_values)\n",
    "        plt.legend(['Q1', 'Q2', 'Q1+Q2'])\n",
    "    # plt.savefig('plot_q_values.png')\n",
    "    plt.show()"
   ]
  },
  {
   "cell_type": "code",
   "execution_count": 13,
   "metadata": {},
   "outputs": [
    {
     "data": {
      "image/png": "[encoded data removed]",
      "text/plain": [
       "<Figure size 432x288 with 1 Axes>"
      ]
     },
     "metadata": {
      "image/png": {
       "height": 250,
       "width": 382
      }
     },
     "output_type": "display_data"
    }
   ],
   "source": [
    "env = Environment()\n",
    "agent = QLearningAgent(env)\n",
    "plot_q_values(agent, env)"
   ]
  },
  {
   "cell_type": "code",
   "execution_count": 14,
   "metadata": {},
   "outputs": [
    {
     "data": {
      "image/png": "[encoded data removed]",
      "text/plain": [
       "<Figure size 432x288 with 1 Axes>"
      ]
     },
     "metadata": {
      "image/png": {
       "height": 250,
       "width": 382
      }
     },
     "output_type": "display_data"
    }
   ],
   "source": [
    "env = Environment()\n",
    "agent = DoubleQLearningAgent(env)\n",
    "plot_q_values(agent, env)"
   ]
  },
  {
   "cell_type": "markdown",
   "metadata": {},
   "source": [
    "### GUI"
   ]
  },
  {
   "cell_type": "markdown",
   "metadata": {},
   "source": [
    "이 GUI는 에이전트의 행동마다 Q값이 어떻게 변하는지 보여줍니다."
   ]
  },
  {
   "cell_type": "code",
   "execution_count": 15,
   "metadata": {},
   "outputs": [],
   "source": [
    "import tkinter as tk\n",
    "import copy"
   ]
  },
  {
   "cell_type": "code",
   "execution_count": 16,
   "metadata": {},
   "outputs": [],
   "source": [
    "class GUI(tk.Tk):\n",
    "    \"\"\"\n",
    "    GUI for Figure 6.5\n",
    "    Figure 6.5를 위한 GUI\n",
    "    \"\"\"\n",
    "\n",
    "    def __init__(self, agent, env, n_steps=500):\n",
    "        self.cache = []\n",
    "        self.episode_count = 0\n",
    "        self.last_reward = 0\n",
    "        self.agent = agent\n",
    "        self.env = env\n",
    "        self.state = self.env.reset()\n",
    "\n",
    "        # Precompute cache\n",
    "        for _ in range(n_steps):\n",
    "            self.cache.append((self.state,\n",
    "                               copy.deepcopy(self.agent.q_table),\n",
    "                               self.last_reward,\n",
    "                               self.episode_count))\n",
    "\n",
    "            action = self.agent.get_action(self.state)\n",
    "            next_state, self.last_reward, done = self.env.step(action)\n",
    "            self.agent.update(self.state, action,\n",
    "                                self.last_reward, next_state, done)\n",
    "            self.state = next_state\n",
    "\n",
    "            if done:\n",
    "                self.state = self.env.reset()\n",
    "                self.episode_count += 1\n",
    "\n",
    "        tk.Tk.__init__(self)\n",
    "        self.canvas = self._build_canvas()\n",
    "\n",
    "        self.step_count = 0\n",
    "        self._update_canvas()\n",
    "\n",
    "    def _build_canvas(self):\n",
    "        \"\"\"\n",
    "        tkinter 캔버스를 세팅합니다.\n",
    "        \"\"\"\n",
    "        # Canvas Dimensions\n",
    "        canvas_w, canvas_h = (600, 250 + 20 * self.env.NUMBER_OF_ACTIONS)\n",
    "\n",
    "        t1_x, t1_y = (150, 150)         # Position of terminal state 1\n",
    "        b_x, b_y = (250, 150)           # Position of state B\n",
    "        a_x, a_y = (350, 150)           # Position of state A\n",
    "        t2_x, t2_y = (450, 150)         # Position of terminal state 2\n",
    "\n",
    "        r = 20                          # Radius of nodes (states)\n",
    "\n",
    "        canvas = tk.Canvas(self, width=canvas_w, height=canvas_h, bg='white')\n",
    "\n",
    "        # Nodes\n",
    "        self.node_b = canvas.create_oval(b_x-r, b_y-r, b_x+r, b_y+r)\n",
    "        self.node_a = canvas.create_oval(a_x-r, a_y-r, a_x+r, a_y+r)\n",
    "        canvas.create_rectangle(t1_x-r, t1_y-r, t1_x+r, t1_y+r, fill='#eee')\n",
    "        canvas.create_rectangle(t2_x-r, t2_y-r, t2_x+r, t2_y+r, fill='#eee')\n",
    "        canvas.create_text(a_x, a_y, text='A')\n",
    "        canvas.create_text(b_x, b_y, text='B')\n",
    "\n",
    "        # Arrows (except B -> T1)\n",
    "        canvas.create_line(b_x-r, b_y, t1_x+r, t1_y, arrow=\"last\")\n",
    "        self.arrow_left = canvas.create_line(\n",
    "            a_x-r, a_y, b_x+r, b_y, arrow=\"last\")\n",
    "        self.arrow_right = canvas.create_line(\n",
    "            a_x+r, a_y, t2_x-r, t2_y, arrow=\"last\")\n",
    "\n",
    "        # Info Text\n",
    "        self.text_episode_count = canvas.create_text(canvas_w/2, 20)\n",
    "        self.text_reward = canvas.create_text(canvas_w/2, 40)\n",
    "        self.text_target = canvas.create_text(canvas_w/2, 60)\n",
    "\n",
    "        # Equation Text (No discount factor)\n",
    "        if isinstance(self.agent, QLearningAgent):\n",
    "            canvas.create_text(canvas_w/2, 80,\n",
    "                               text='Q(s, a) := (1 - a)Q + a(R + max(Q(s\\', a\\')))')\n",
    "        elif isinstance(self.agent, DoubleQLearningAgent):\n",
    "            canvas.create_text(canvas_w/2, 80,\n",
    "                               text='Qx(s, a) := (1 - a)Qx + a(R + max(Qy(s\\', a\\')))')\n",
    "\n",
    "        # Q Table\n",
    "        self.text_left = canvas.create_text((b_x+a_x)/2, a_y+10)\n",
    "        self.text_right = canvas.create_text((a_x+t2_x)/2, a_y+10)\n",
    "        self.text_q_values_in_b = []\n",
    "        self.arrows = []\n",
    "        for i in range(env.NUMBER_OF_ACTIONS):\n",
    "            self.arrows.append(canvas.create_line(\n",
    "                b_x-r, b_y+r*i, t1_x+r, t1_y+r*i, arrow=\"last\"))\n",
    "            self.text_q_values_in_b.append(\n",
    "                canvas.create_text((t1_x+b_x)/2, t1_y+r*i+10))\n",
    "\n",
    "        # Back Button\n",
    "        back_button = tk.Button(\n",
    "            self, text=\"Back\", command=self.back_step, width=40, height=3)\n",
    "        canvas.create_window(canvas_w/4, canvas_h-25, window=back_button)\n",
    "\n",
    "        # Step Button\n",
    "        step_button = tk.Button(\n",
    "            self, text=\"Step\", command=self.run_step, width=40, height=3)\n",
    "        canvas.create_window(3*canvas_w/4, canvas_h-25, window=step_button)\n",
    "\n",
    "        canvas.pack(side=\"top\", fill=\"both\", expand=True)\n",
    "\n",
    "        return canvas\n",
    "\n",
    "    def run_step(self):\n",
    "        \"\"\"\n",
    "        다음 타임스텝의 캔버스를 그립니다.\n",
    "        \"\"\"\n",
    "        if self.step_count >= len(self.cache) - 1:\n",
    "            return\n",
    "\n",
    "        self.step_count += 1\n",
    "        self._update_canvas()\n",
    "\n",
    "    def back_step(self):\n",
    "        \"\"\"\n",
    "        전 타임스텝의 캔버스를 그립니다.\n",
    "        \"\"\"\n",
    "        if self.step_count <= 0:\n",
    "            return\n",
    "\n",
    "        self.step_count -= 1\n",
    "        self._update_canvas()\n",
    "\n",
    "    def _update_canvas(self):\n",
    "        \"\"\"\n",
    "        캔버스를 업데이트합니다.\n",
    "        \"\"\"\n",
    "        cache = self.cache[self.step_count]\n",
    "        self.state, q_table, self.last_reward, self.episode_count = cache\n",
    "        self.env.state = self.state\n",
    "        self.agent.q_table = copy.deepcopy(q_table)\n",
    "\n",
    "        # Update Info\n",
    "        self.canvas.itemconfig(self.text_episode_count,\n",
    "                               text='Episode Count: %d' % self.episode_count)\n",
    "        self.canvas.itemconfig(self.text_reward,\n",
    "                               text='Last Reward: %.3f' % self.last_reward)\n",
    "\n",
    "        # Update Q values\n",
    "        if isinstance(agent, QLearningAgent):\n",
    "            q_table = self.agent.q_table\n",
    "        else:\n",
    "            q_table = {state: np.add(self.agent.q_table[0][state],\n",
    "                                     self.agent.q_table[1][state])\n",
    "                       for state in ['A', 'B']}\n",
    "\n",
    "        self.canvas.itemconfig(self.text_left,\n",
    "                               text='%.3f' % q_table['A'][Action.LEFT])\n",
    "        self.canvas.itemconfig(self.text_right,\n",
    "                               text='%.3f' % q_table['A'][Action.RIGHT])\n",
    "        for i in range(env.NUMBER_OF_ACTIONS):\n",
    "            self.canvas.itemconfig(self.text_q_values_in_b[i],\n",
    "                                   text='%.3f' % q_table['B'][i])\n",
    "\n",
    "        # Reset colors\n",
    "        self.canvas.itemconfig(self.node_a, fill='white')\n",
    "        self.canvas.itemconfig(self.node_b, fill='white')\n",
    "        self.canvas.itemconfig(self.arrow_left, fill='black')\n",
    "        self.canvas.itemconfig(self.arrow_right, fill='black')\n",
    "        for i in range(self.env.NUMBER_OF_ACTIONS):\n",
    "            self.canvas.itemconfig(self.arrows[i], fill='black')\n",
    "\n",
    "        # Color current state\n",
    "        if self.state == 'A':\n",
    "            self.canvas.itemconfig(self.node_a, fill='#6ee')\n",
    "        else:\n",
    "            self.canvas.itemconfig(self.node_b, fill='#6ee')\n",
    "\n",
    "        # Color greedy action\n",
    "        if self.state == 'A':\n",
    "            if q_table['A'][Action.LEFT] == q_table['A'][Action.RIGHT]:\n",
    "                self.canvas.itemconfig(self.arrow_left, fill='red')\n",
    "                self.canvas.itemconfig(self.arrow_right, fill='red')\n",
    "            elif q_table['A'][Action.LEFT] > q_table['A'][Action.RIGHT]:\n",
    "                self.canvas.itemconfig(self.arrow_left, fill='red')\n",
    "            else:\n",
    "                self.canvas.itemconfig(self.arrow_right, fill='red')\n",
    "        else:\n",
    "            max_indices = argmax_all(q_table['B'])\n",
    "            for i in range(self.env.NUMBER_OF_ACTIONS):\n",
    "                if i in max_indices:\n",
    "                    self.canvas.itemconfig(self.arrows[i], fill='red')"
   ]
  },
  {
   "cell_type": "code",
   "execution_count": 17,
   "metadata": {},
   "outputs": [],
   "source": [
    "env = Environment()\n",
    "agent = QLearningAgent(env)\n",
    "gui = GUI(agent, env)\n",
    "gui.mainloop()"
   ]
  },
  {
   "cell_type": "code",
   "execution_count": 18,
   "metadata": {},
   "outputs": [],
   "source": [
    "env = Environment()\n",
    "agent = DoubleQLearningAgent(env)\n",
    "gui = GUI(agent, env)\n",
    "gui.mainloop()"
   ]
  }
 ],
 "metadata": {
  "kernelspec": {
   "display_name": "Python [conda env:paper]",
   "language": "python",
   "name": "conda-env-paper-py"
  },
  "language_info": {
   "codemirror_mode": {
    "name": "ipython",
    "version": 3
   },
   "file_extension": ".py",
   "mimetype": "text/x-python",
   "name": "python",
   "nbconvert_exporter": "python",
   "pygments_lexer": "ipython3",
   "version": "3.6.5"
  },
  "varInspector": {
   "cols": {
    "lenName": 16,
    "lenType": 16,
    "lenVar": 40
   },
   "kernels_config": {
    "python": {
     "delete_cmd_postfix": "",
     "delete_cmd_prefix": "del ",
     "library": "var_list.py",
     "varRefreshCmd": "print(var_dic_list())"
    },
    "r": {
     "delete_cmd_postfix": ") ",
     "delete_cmd_prefix": "rm(",
     "library": "var_list.r",
     "varRefreshCmd": "cat(var_dic_list()) "
    }
   },
   "types_to_exclude": [
    "module",
    "function",
    "builtin_function_or_method",
    "instance",
    "_Feature"
   ],
   "window_display": false
  }
 },
 "nbformat": 4,
 "nbformat_minor": 2
}
