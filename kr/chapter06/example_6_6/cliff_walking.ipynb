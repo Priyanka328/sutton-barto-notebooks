{
 "cells": [
  {
   "cell_type": "markdown",
   "metadata": {},
   "source": [
    "# [Sutton and Barto Notebooks](https://github.com/seungjaeryanlee/sutton-barto-notebooks): Example 6.6"
   ]
  },
  {
   "cell_type": "markdown",
   "metadata": {},
   "source": [
    "[모두AI](https://www.modu.ai)  \n",
    "저자: 이승재  "
   ]
  },
  {
   "cell_type": "markdown",
   "metadata": {},
   "source": [
    "![Example 6.6](example_6_6.png)"
   ]
  },
  {
   "cell_type": "code",
   "execution_count": 1,
   "metadata": {},
   "outputs": [],
   "source": [
    "import copy\n",
    "from enum import IntEnum\n",
    "import numpy as np\n",
    "import matplotlib.pyplot as plt\n",
    "%matplotlib inline\n",
    "%config InlineBackend.figure_format = 'retina'"
   ]
  },
  {
   "cell_type": "code",
   "execution_count": 2,
   "metadata": {},
   "outputs": [],
   "source": [
    "def argmax_all(list_):\n",
    "    \"\"\"\n",
    "    주어진 list의 최대값들의 index들을 list 형태로 반환합니다. 첫 최대값의 index만 반환하는\n",
    "    np.argmax와는 다릅니다.\n",
    "    \"\"\"\n",
    "    return np.argwhere(list_ == list_.max()).flatten()"
   ]
  },
  {
   "cell_type": "code",
   "execution_count": 3,
   "metadata": {},
   "outputs": [],
   "source": [
    "class Action(IntEnum):\n",
    "    \"\"\"\n",
    "    절벽 환경에서 가능한 행동들을 나타내는 enum.\n",
    "    \"\"\"\n",
    "    UP = 0\n",
    "    DOWN = 1\n",
    "    LEFT = 2\n",
    "    RIGHT = 3"
   ]
  },
  {
   "cell_type": "markdown",
   "metadata": {},
   "source": [
    "## Environment"
   ]
  },
  {
   "cell_type": "code",
   "execution_count": 4,
   "metadata": {},
   "outputs": [],
   "source": [
    "class Environment:\n",
    "    \"\"\"\n",
    "    Example 6.6의 절벽 환경입니다.\n",
    "    \"\"\"\n",
    "    action_space = list(map(int, Action))\n",
    "\n",
    "    def __init__(self, width=12, height=4):\n",
    "        self.W = width\n",
    "        self.H = height\n",
    "        self.state_space = [i for i in range(width * height)]\n",
    "\n",
    "        self.state = width * (height - 1)\n",
    "\n",
    "    def _is_goal(self):\n",
    "        \"\"\"\n",
    "        현재 상태가 목표 지점인지 확인합니다.\n",
    "        \"\"\"\n",
    "        return self.state == self.W * self.H - 1\n",
    "\n",
    "    def _is_cliff(self):\n",
    "        \"\"\"\n",
    "        현재 상태가 절벽인지 확인합니다.\n",
    "        \"\"\"\n",
    "        return self.state in range(self.W * (self.H - 1) + 1,\n",
    "                                   self.W * self.H - 1)\n",
    "\n",
    "    def reset(self):\n",
    "        \"\"\"\n",
    "        환경을 초기화하고 초기화된 상태를 반환합니다.\n",
    "        \"\"\"\n",
    "        self.state = self.W * (self.H - 1)\n",
    "        return self.state\n",
    "\n",
    "    def step(self, action):\n",
    "        \"\"\"\n",
    "        주어진 행동을 하고 다음 상태, 보상, 그리고 에피소드가 끝났는지를 반환합니다.\n",
    "        \"\"\"\n",
    "        assert action in self.action_space\n",
    "\n",
    "        if action == Action.LEFT:\n",
    "            if self.state % self.W > 0:\n",
    "                self.state -= 1\n",
    "        elif action == Action.RIGHT:\n",
    "            if self.state % self.W < self.W - 1:\n",
    "                self.state += 1\n",
    "        elif action == Action.UP:\n",
    "            if self.state // self.W > 0:\n",
    "                self.state -= self.W\n",
    "        elif action == Action.DOWN:\n",
    "            if self.state // self.W < self.H - 1:\n",
    "                self.state += self.W\n",
    "\n",
    "        if self._is_cliff():\n",
    "            reward = -100\n",
    "            self.state = self.W * (self.H - 1)\n",
    "        else:\n",
    "            reward = -1\n",
    "\n",
    "        done = self._is_goal()\n",
    "\n",
    "        return self.state, reward, done"
   ]
  },
  {
   "cell_type": "markdown",
   "metadata": {},
   "source": [
    "## Agents"
   ]
  },
  {
   "cell_type": "markdown",
   "metadata": {},
   "source": [
    "![SARSA Pseudocode](sarsa.png)"
   ]
  },
  {
   "cell_type": "code",
   "execution_count": 5,
   "metadata": {},
   "outputs": [],
   "source": [
    "class SarsaAgent:\n",
    "    def __init__(self,\n",
    "                 state_space,\n",
    "                 action_space,\n",
    "                 epsilon=0.1,\n",
    "                 learning_rate=0.1,\n",
    "                 discount_factor=1,\n",
    "                 name=None):\n",
    "        \"\"\"\n",
    "        Q 테이블을 초기화하고 주어진 환경을 보관합니다.\n",
    "        \"\"\"\n",
    "        self.state_space = state_space\n",
    "        self.action_space = action_space\n",
    "        self.epsilon = epsilon\n",
    "        self.learning_rate = learning_rate\n",
    "        self.discount_factor = discount_factor\n",
    "        self.name = 'SARSA' if name is None else name\n",
    "\n",
    "        self.q_table = np.zeros((len(state_space), len(action_space)),\n",
    "                                dtype=float)\n",
    "\n",
    "    def get_action(self, state):\n",
    "        \"\"\"\n",
    "        엡실론 탐욕 정책과 Q테이블을 이용해 주어진 상태에서 할 행동을 반환합니다.\n",
    "        \"\"\"\n",
    "        if np.random.random() < self.epsilon:\n",
    "            return np.random.choice(self.action_space)\n",
    "        else:\n",
    "            best_actions = argmax_all(self.q_table[state])\n",
    "            return np.random.choice(best_actions)\n",
    "\n",
    "    def update_q(self, state, action, reward, next_state, done):\n",
    "        \"\"\"\n",
    "        SARSA를 통해 Q 테이블을 업데이트합니다.\n",
    "        \"\"\"\n",
    "        if done:\n",
    "            target = reward\n",
    "        else:\n",
    "            target = reward + self.discount_factor * \\\n",
    "                self.q_table[next_state][self.get_action(next_state)]\n",
    "\n",
    "        self.q_table[state][action] += self.learning_rate * \\\n",
    "            (target - self.q_table[state][action])\n",
    "\n",
    "    def reset(self):\n",
    "        self.q_table = np.zeros((len(env.state_space), len(env.action_space)),\n",
    "                                dtype=float)"
   ]
  },
  {
   "cell_type": "markdown",
   "metadata": {},
   "source": [
    "![Q-Learning Pseudocode](q_learning.png)"
   ]
  },
  {
   "cell_type": "code",
   "execution_count": 6,
   "metadata": {},
   "outputs": [],
   "source": [
    "class QLearningAgent:\n",
    "    def __init__(self,\n",
    "                 state_space,\n",
    "                 action_space,\n",
    "                 epsilon=0.1,\n",
    "                 learning_rate=0.1,\n",
    "                 discount_factor=1,\n",
    "                 name=None):\n",
    "        \"\"\"\n",
    "        Q 테이블을 초기화하고 주어진 환경을 보관합니다.\n",
    "        \"\"\"\n",
    "        self.state_space = state_space\n",
    "        self.action_space = action_space\n",
    "        self.epsilon = epsilon\n",
    "        self.learning_rate = learning_rate\n",
    "        self.discount_factor = discount_factor\n",
    "        self.name = 'Q-Learning' if name is None else name\n",
    "\n",
    "        self.q_table = np.zeros((len(state_space), len(action_space)),\n",
    "                                dtype=float)\n",
    "\n",
    "    def get_action(self, state):\n",
    "        \"\"\"\n",
    "        엡실론 탐욕 정책과 Q테이블을 이용해 주어진 상태에서 할 행동을 반환합니다.\n",
    "        \"\"\"\n",
    "        if np.random.random() < self.epsilon:\n",
    "            return np.random.choice(self.action_space)\n",
    "        else:\n",
    "            best_actions = argmax_all(self.q_table[state])\n",
    "            return np.random.choice(best_actions)\n",
    "\n",
    "    def update_q(self, state, action, reward, next_state, done):\n",
    "        \"\"\"\n",
    "        Q러닝을 통해 Q 테이블을 업데이트합니다.\n",
    "        \"\"\"\n",
    "        if done:\n",
    "            target = reward\n",
    "        else:\n",
    "            target = reward + self.discount_factor * \\\n",
    "                np.max(self.q_table[next_state])\n",
    "\n",
    "        self.q_table[state][action] += self.learning_rate * \\\n",
    "            (target - self.q_table[state][action])\n",
    "\n",
    "    def reset(self):\n",
    "        self.q_table = np.zeros((len(env.state_space), len(env.action_space)),\n",
    "                                dtype=float)"
   ]
  },
  {
   "cell_type": "markdown",
   "metadata": {},
   "source": [
    "## Plot"
   ]
  },
  {
   "cell_type": "code",
   "execution_count": 7,
   "metadata": {},
   "outputs": [],
   "source": [
    "def episode(env, agent):\n",
    "    \"\"\"\n",
    "    주어진 에이전트와 환경으로 한 에피소드를 완료하고 총 보상을 반환합니다.\n",
    "    \"\"\"\n",
    "    state = env.reset()\n",
    "    done = False\n",
    "    total_reward = 0\n",
    "\n",
    "    while not done:\n",
    "        action = agent.get_action(state)\n",
    "        next_state, reward, done = env.step(action)\n",
    "        agent.update_q(state, action, reward, next_state, done)\n",
    "        state = next_state\n",
    "\n",
    "        total_reward += reward\n",
    "\n",
    "    return total_reward"
   ]
  },
  {
   "cell_type": "code",
   "execution_count": 8,
   "metadata": {},
   "outputs": [],
   "source": [
    "def run(env, agent, n_episodes=500):\n",
    "    \"\"\"\n",
    "    주어진 에이전트와 환경으로 에피소드를 여러 번 완료하고 각 에피소드의 총 보상들을 list 형태로\n",
    "    반환합니다. 에피소드 간에 에이전트의 Q값은 지속됩니다.\n",
    "    \"\"\"\n",
    "    total_rewards = np.zeros(n_episodes, dtype=float)\n",
    "    for i in range(n_episodes):\n",
    "        env.reset()\n",
    "        total_rewards[i] = episode(env, agent)\n",
    "\n",
    "    return total_rewards"
   ]
  },
  {
   "cell_type": "code",
   "execution_count": 9,
   "metadata": {},
   "outputs": [],
   "source": [
    "def runs(env, agent, n_runs=500, n_episodes=500):\n",
    "    \"\"\"\n",
    "    주어진 에이전트와 환경으로 run을 여러 번 실행합니다. 각 에피소드의 총 보상들의 평균값을\n",
    "    list 형태로 반환합니다. 에피소드 간에 에이전트의 Q값은 지속되지만, run마다 에이전트의\n",
    "    Q값은 초기화됩니다.\n",
    "    \"\"\"\n",
    "    total_total_rewards = np.zeros(n_episodes, dtype=float)\n",
    "\n",
    "    for _ in range(n_runs):\n",
    "        agent.reset()\n",
    "        total_total_rewards += run(env, agent, n_episodes)\n",
    "\n",
    "    return total_total_rewards / n_runs"
   ]
  },
  {
   "cell_type": "code",
   "execution_count": 10,
   "metadata": {},
   "outputs": [],
   "source": [
    "def plot(env, agents, n_runs=500, n_episodes=500):\n",
    "    \"\"\"\n",
    "    Example 6.6 / Figure 6.4의 그래프를 그립니다.\n",
    "    \"\"\"\n",
    "    names = []\n",
    "    for agent in agents:\n",
    "        names.append(agent.name)\n",
    "        total_rewards = runs(env, agent, n_runs, n_episodes)\n",
    "        plt.plot(total_rewards)\n",
    "\n",
    "    plt.xlabel('Episodes')\n",
    "    plt.ylabel('Sum of rewards during episode')\n",
    "    plt.ylim(-100, 0)\n",
    "    plt.yticks(np.arange(-100, 0, 25))\n",
    "    plt.xticks(np.arange(0, 500, 100))\n",
    "    plt.legend(names)\n",
    "    plt.show()"
   ]
  },
  {
   "cell_type": "code",
   "execution_count": 11,
   "metadata": {},
   "outputs": [
    {
     "data": {
      "image/png": "[encoded data removed]",
      "text/plain": [
       "<Figure size 432x288 with 1 Axes>"
      ]
     },
     "metadata": {
      "image/png": {
       "height": 263,
       "width": 399
      }
     },
     "output_type": "display_data"
    }
   ],
   "source": [
    "env = Environment()\n",
    "agents = [\n",
    "    SarsaAgent(env.state_space, env.action_space),\n",
    "    QLearningAgent(env.state_space, env.action_space),\n",
    "]\n",
    "plot(env, agents, 500, 500)"
   ]
  },
  {
   "cell_type": "code",
   "execution_count": 12,
   "metadata": {},
   "outputs": [],
   "source": [
    "def draw_greedy_policy(env, agent):\n",
    "    \"\"\"\n",
    "    주어진 에이전트의 탐욕 정책을 화살표로 그립니다.\n",
    "    \"\"\"\n",
    "    print('--------------------------------------------------')\n",
    "    print(' {}\\'s Greedy Policy'.format(agent.name))\n",
    "    print('--------------------------------------------------')\n",
    "    for h in range(env.H):\n",
    "        for w in range(env.W):\n",
    "            best_action = Action(np.argmax(agent.q_table[h * env.W + w]))\n",
    "            if best_action == Action.UP:\n",
    "                print('↑', end=' ')\n",
    "            elif best_action == Action.DOWN:\n",
    "                print('↓', end=' ')\n",
    "            elif best_action == Action.LEFT:\n",
    "                print('←', end=' ')\n",
    "            elif best_action == Action.RIGHT:\n",
    "                print('→', end=' ')\n",
    "        print()\n",
    "        print()"
   ]
  },
  {
   "cell_type": "code",
   "execution_count": 13,
   "metadata": {},
   "outputs": [
    {
     "name": "stdout",
     "output_type": "stream",
     "text": [
      "--------------------------------------------------\n",
      " SARSA's Greedy Policy\n",
      "--------------------------------------------------\n",
      "→ → → → → → → → → → → ↓ \n",
      "\n",
      "→ → → → → → → → → → → ↓ \n",
      "\n",
      "↑ ← ← ↑ → → ↑ ↑ → → → ↓ \n",
      "\n",
      "↑ ↑ ↑ ↑ ↑ ↑ ↑ ↑ ↑ ↑ ↑ ↑ \n",
      "\n",
      "--------------------------------------------------\n",
      " Q-Learning's Greedy Policy\n",
      "--------------------------------------------------\n",
      "↑ → ← ↓ ← ↑ → → → ↑ → ↓ \n",
      "\n",
      "← → ↑ → → → → ↓ ↓ → → ↓ \n",
      "\n",
      "→ → → → → → → → → → → ↓ \n",
      "\n",
      "↑ ↑ ↑ ↑ ↑ ↑ ↑ ↑ ↑ ↑ ↑ ↑ \n",
      "\n"
     ]
    }
   ],
   "source": [
    "env = Environment()\n",
    "sarsa_agent = agents[0]\n",
    "q_learning_agent = agents[1]\n",
    "\n",
    "draw_policy(env, agents[0])\n",
    "draw_policy(env, agents[1])"
   ]
  }
 ],
 "metadata": {
  "kernelspec": {
   "display_name": "Python [conda env:paper]",
   "language": "python",
   "name": "conda-env-paper-py"
  },
  "language_info": {
   "codemirror_mode": {
    "name": "ipython",
    "version": 3
   },
   "file_extension": ".py",
   "mimetype": "text/x-python",
   "name": "python",
   "nbconvert_exporter": "python",
   "pygments_lexer": "ipython3",
   "version": "3.6.5"
  },
  "varInspector": {
   "cols": {
    "lenName": 16,
    "lenType": 16,
    "lenVar": 40
   },
   "kernels_config": {
    "python": {
     "delete_cmd_postfix": "",
     "delete_cmd_prefix": "del ",
     "library": "var_list.py",
     "varRefreshCmd": "print(var_dic_list())"
    },
    "r": {
     "delete_cmd_postfix": ") ",
     "delete_cmd_prefix": "rm(",
     "library": "var_list.r",
     "varRefreshCmd": "cat(var_dic_list()) "
    }
   },
   "types_to_exclude": [
    "module",
    "function",
    "builtin_function_or_method",
    "instance",
    "_Feature"
   ],
   "window_display": false
  }
 },
 "nbformat": 4,
 "nbformat_minor": 2
}
