{
 "cells": [
  {
   "cell_type": "markdown",
   "metadata": {},
   "source": [
    "# [Sutton and Barto Notebooks](https://github.com/seungjaeryanlee/sutton-barto-notebooks): Example 13.1"
   ]
  },
  {
   "cell_type": "markdown",
   "metadata": {},
   "source": [
    "[ModuAI](https://www.modu.ai)  \n",
    "Author: Seung Jae (Ryan) Lee  "
   ]
  },
  {
   "cell_type": "markdown",
   "metadata": {},
   "source": [
    "![](example_13_1.png)"
   ]
  },
  {
   "cell_type": "code",
   "execution_count": 1,
   "metadata": {},
   "outputs": [],
   "source": [
    "from enum import IntEnum\n",
    "\n",
    "import numpy as np\n",
    "import matplotlib.pyplot as plt\n",
    "%matplotlib inline"
   ]
  },
  {
   "cell_type": "code",
   "execution_count": 2,
   "metadata": {},
   "outputs": [],
   "source": [
    "class Action(IntEnum):\n",
    "    \"\"\"\n",
    "    All possible actions in the small corridor gridworld environment.\n",
    "    \"\"\"\n",
    "    LEFT = -1\n",
    "    RIGHT = 1"
   ]
  },
  {
   "cell_type": "markdown",
   "metadata": {},
   "source": [
    "## Environment"
   ]
  },
  {
   "cell_type": "code",
   "execution_count": 3,
   "metadata": {},
   "outputs": [],
   "source": [
    "class Environment:\n",
    "    \"\"\"\n",
    "    The small corridor gridworld environment specified in Example 13.1. The\n",
    "    current state is not observable in this environment, and in the second\n",
    "    state the LEFT action moves the agent right and the RIGHT action moves\n",
    "    the agent left.\n",
    "    \"\"\"\n",
    "    action_space = list(Action)\n",
    "    state_space = [0, 1, 2, 3]\n",
    "\n",
    "    def __init__(self):\n",
    "        self.state = 0\n",
    "\n",
    "    def step(self, action):\n",
    "        assert action in self.action_space\n",
    "\n",
    "        if self.state == 0 and action == Action.RIGHT:\n",
    "            self.state += action\n",
    "        elif self.state == 1:\n",
    "            self.state -= action\n",
    "        elif self.state == 2:\n",
    "            self.state += action\n",
    "\n",
    "        return {}, -1, self.is_done(), {}\n",
    "\n",
    "    def reset(self):\n",
    "        self.state = 0\n",
    "\n",
    "    def is_done(self):\n",
    "        return self.state == 3"
   ]
  },
  {
   "cell_type": "markdown",
   "metadata": {},
   "source": [
    "## Agent"
   ]
  },
  {
   "cell_type": "code",
   "execution_count": 4,
   "metadata": {},
   "outputs": [],
   "source": [
    "class StochasticAgent:\n",
    "    \"\"\"\n",
    "    A stochastic agent that chooses the action RIGHT with given probability.\n",
    "    \"\"\"\n",
    "\n",
    "    def __init__(self, probability_right):\n",
    "        self.p_right = probability_right\n",
    "\n",
    "    def get_action(self):\n",
    "        if np.random.random() < self.p_right:\n",
    "            return Action.RIGHT\n",
    "        else:\n",
    "            return Action.LEFT"
   ]
  },
  {
   "cell_type": "markdown",
   "metadata": {},
   "source": [
    "## Plot"
   ]
  },
  {
   "cell_type": "code",
   "execution_count": 5,
   "metadata": {},
   "outputs": [],
   "source": [
    "def plot(epsilon=0.1, xs=np.arange(0.01, 1, 0.01).tolist(), n_episodes=1000):\n",
    "    \"\"\"\n",
    "    Draws figure in Example 13.1.\n",
    "    \"\"\"\n",
    "    # Add epsilon-greedy left and right to xs\n",
    "    x_epsilon_left = epsilon / 2\n",
    "    x_epsilon_right = 1 - epsilon / 2\n",
    "    xs.extend([x_epsilon_left, x_epsilon_right])\n",
    "    xs.sort()\n",
    "    i_epsilon_left = xs.index(x_epsilon_left)\n",
    "    i_epsilon_right = xs.index(x_epsilon_right)\n",
    "\n",
    "    average_rewards = []\n",
    "    for p_right in xs:\n",
    "        env = Environment()\n",
    "        agent = StochasticAgent(p_right)\n",
    "\n",
    "        total_reward = 0\n",
    "        for _ in range(n_episodes):\n",
    "            env.reset()\n",
    "            total_episode_reward = 0\n",
    "            done = False\n",
    "            while not done:\n",
    "                action = agent.get_action()\n",
    "                _, reward, done, _ = env.step(action)\n",
    "                total_episode_reward += reward\n",
    "\n",
    "            total_reward += total_episode_reward\n",
    "\n",
    "        average_rewards.append(total_reward / n_episodes)\n",
    "\n",
    "    max_pt = (xs[np.argmax(average_rewards)], np.max(average_rewards))\n",
    "    epsilon_left_pt = (xs[i_epsilon_left], average_rewards[i_epsilon_left])\n",
    "    epsilon_right_pt = (xs[i_epsilon_right], average_rewards[i_epsilon_right])\n",
    "\n",
    "    print('Optimal Policy Probability: {:.2f}'.format(max_pt[0]))\n",
    "    print('Optimal Policy Reward     : {:.2f}'.format(max_pt[1]))\n",
    "    print('Epsilon Left Reward       : {:.2f}'.format(epsilon_left_pt[1]))\n",
    "    print('Epsilon Right Reward      : {:.2f}'.format(epsilon_right_pt[1]))\n",
    "\n",
    "    plt.plot(xs, average_rewards)\n",
    "    plt.annotate('optimal\\nstochastic\\npolicy',\n",
    "                 max_pt,\n",
    "                 xytext=(max_pt[0], max_pt[1] - 20),\n",
    "                 arrowprops=dict(arrowstyle='->'),\n",
    "                 horizontalalignment='center')\n",
    "    plt.annotate('$\\\\epsilon$-greedy left',\n",
    "                 epsilon_left_pt,\n",
    "                 xytext=(epsilon_left_pt[0] + 0.05, epsilon_left_pt[1]),\n",
    "                 arrowprops=dict(arrowstyle='->'),\n",
    "                 horizontalalignment='left')\n",
    "    plt.annotate('$\\\\epsilon$-greedy right',\n",
    "                 epsilon_right_pt,\n",
    "                 xytext=(epsilon_right_pt[0] - 0.05, epsilon_right_pt[1]),\n",
    "                 arrowprops=dict(arrowstyle='->'),\n",
    "                 horizontalalignment='right')\n",
    "    plt.xlim(0, 1)\n",
    "    plt.ylim(-100, -10)\n",
    "#     plt.savefig('plot.png')\n",
    "    plt.show()"
   ]
  },
  {
   "cell_type": "code",
   "execution_count": 6,
   "metadata": {},
   "outputs": [
    {
     "name": "stdout",
     "output_type": "stream",
     "text": [
      "Optimal Policy Probability: 0.56\n",
      "Optimal Policy Reward     : -11.37\n",
      "Epsilon Left Reward       : -82.92\n",
      "Epsilon Right Reward      : -44.16\n"
     ]
    },
    {
     "data": {
      "image/png": "[encoded data removed]",
      "text/plain": [
       "<Figure size 432x288 with 1 Axes>"
      ]
     },
     "metadata": {},
     "output_type": "display_data"
    }
   ],
   "source": [
    "plot()"
   ]
  }
 ],
 "metadata": {
  "kernelspec": {
   "display_name": "Python [conda env:paper]",
   "language": "python",
   "name": "conda-env-paper-py"
  },
  "language_info": {
   "codemirror_mode": {
    "name": "ipython",
    "version": 3
   },
   "file_extension": ".py",
   "mimetype": "text/x-python",
   "name": "python",
   "nbconvert_exporter": "python",
   "pygments_lexer": "ipython3",
   "version": "3.6.5"
  },
  "varInspector": {
   "cols": {
    "lenName": 16,
    "lenType": 16,
    "lenVar": 40
   },
   "kernels_config": {
    "python": {
     "delete_cmd_postfix": "",
     "delete_cmd_prefix": "del ",
     "library": "var_list.py",
     "varRefreshCmd": "print(var_dic_list())"
    },
    "r": {
     "delete_cmd_postfix": ") ",
     "delete_cmd_prefix": "rm(",
     "library": "var_list.r",
     "varRefreshCmd": "cat(var_dic_list()) "
    }
   },
   "types_to_exclude": [
    "module",
    "function",
    "builtin_function_or_method",
    "instance",
    "_Feature"
   ],
   "window_display": false
  }
 },
 "nbformat": 4,
 "nbformat_minor": 2
}
