{
 "cells": [
  {
   "cell_type": "markdown",
   "metadata": {},
   "source": [
    "# [Sutton and Barto Notebooks](https://github.com/seungjaeryanlee/sutton-barto-notebooks): Example 6.6"
   ]
  },
  {
   "cell_type": "markdown",
   "metadata": {},
   "source": [
    "[모두AI](https://www.modu.ai)  \n",
    "Author: Ryan Lee  \n",
    "저자: 이승재  "
   ]
  },
  {
   "cell_type": "markdown",
   "metadata": {},
   "source": [
    "![Example 6.6](example_6_6.png)"
   ]
  },
  {
   "cell_type": "code",
   "execution_count": 1,
   "metadata": {},
   "outputs": [],
   "source": [
    "import copy\n",
    "from enum import IntEnum\n",
    "import numpy as np\n",
    "import matplotlib.pyplot as plt\n",
    "%matplotlib inline\n",
    "%config InlineBackend.figure_format = 'retina'"
   ]
  },
  {
   "cell_type": "code",
   "execution_count": 2,
   "metadata": {},
   "outputs": [],
   "source": [
    "def argmax_all(list_):\n",
    "    \"\"\"\n",
    "    Returns all argmax of given list in a list. Different from np.argmax which \n",
    "    returns first instance only.\n",
    "    주어진 list의 최대값들의 index들을 list 형태로 반환합니다. 첫 최대값의 index만 반환하는\n",
    "    np.argmax와는 다릅니다.\n",
    "    \"\"\"\n",
    "    return np.argwhere(list_ == list_.max()).flatten()"
   ]
  },
  {
   "cell_type": "code",
   "execution_count": 3,
   "metadata": {},
   "outputs": [],
   "source": [
    "class Action(IntEnum):\n",
    "    \"\"\"\n",
    "    Enum of possible actions in the Cliff environment.\n",
    "    절벽 환경에서 가능한 행동들을 나타내는 enum.\n",
    "    \"\"\"\n",
    "    UP = 0\n",
    "    DOWN = 1\n",
    "    LEFT = 2\n",
    "    RIGHT = 3"
   ]
  },
  {
   "cell_type": "markdown",
   "metadata": {},
   "source": [
    "## Environment"
   ]
  },
  {
   "cell_type": "code",
   "execution_count": 4,
   "metadata": {},
   "outputs": [],
   "source": [
    "class Environment:\n",
    "    \"\"\"\n",
    "    The Cliff environment shown in Example 6.6.\n",
    "    Example 6.6의 절벽 환경입니다.\n",
    "    \"\"\"\n",
    "    action_space = list(map(int, Action))\n",
    "\n",
    "    def __init__(self, width=12, height=4):\n",
    "        self.W = width\n",
    "        self.H = height\n",
    "        self.state_space = [i for i in range(width * height)]\n",
    "\n",
    "        self.state = width * (height - 1)\n",
    "\n",
    "    def _is_goal(self):\n",
    "        \"\"\"\n",
    "        Checks if current state is the goal state.\n",
    "        현재 상태가 목표 지점인지 확인합니다.\n",
    "        \"\"\"\n",
    "        return self.state == self.W * self.H - 1\n",
    "\n",
    "    def _is_cliff(self):\n",
    "        \"\"\"\n",
    "        Checks if current state is a cliff.\n",
    "        현재 상태가 절벽인지 확인합니다.\n",
    "        \"\"\"\n",
    "        return self.state in range(self.W * (self.H - 1) + 1, self.W * self.H - 1)\n",
    "\n",
    "    def reset(self):\n",
    "        \"\"\"\n",
    "        Resets environment and returns initial state.\n",
    "        환경을 초기화하고 초기화된 상태를 반환합니다.\n",
    "        \"\"\"\n",
    "        self.state = self.W * (self.H - 1)\n",
    "        return self.state\n",
    "    \n",
    "    def step(self, action):\n",
    "        \"\"\"\n",
    "        Performs given action and returns next_state, reward, done.\n",
    "        주어진 행동을 하고 다음 상태, 보상, 그리고 에피소드가 끝났는지를 반환합니다.\n",
    "        \"\"\"\n",
    "        assert action in self.action_space\n",
    "\n",
    "        if action == Action.LEFT:\n",
    "            if self.state % self.W > 0:\n",
    "                self.state -= 1\n",
    "        elif action == Action.RIGHT:\n",
    "            if self.state % self.W < self.W - 1:\n",
    "                self.state += 1\n",
    "        elif action == Action.UP:\n",
    "            if self.state // self.W > 0:\n",
    "                self.state -= self.W\n",
    "        elif action == Action.DOWN:\n",
    "            if self.state // self.W < self.H - 1:\n",
    "                self.state += self.W\n",
    "\n",
    "        if self._is_cliff():\n",
    "            reward = -100\n",
    "            self.state = self.W * (self.H - 1)\n",
    "        else:\n",
    "            reward = -1\n",
    "\n",
    "        done = self._is_goal()\n",
    "\n",
    "        return self.state, reward, done"
   ]
  },
  {
   "cell_type": "code",
   "execution_count": 5,
   "metadata": {},
   "outputs": [],
   "source": [
    "class SarsaAgent:\n",
    "    def __init__(self,\n",
    "                 state_space,\n",
    "                 action_space, \n",
    "                 epsilon=0.1,\n",
    "                 learning_rate=0.1,\n",
    "                 discount_factor=1):\n",
    "        \"\"\"\n",
    "        Initialize Q table and save environment.\n",
    "        Q 테이블을 초기화하고 주어진 환경을 보관합니다.\n",
    "        \"\"\"\n",
    "        self.state_space = state_space\n",
    "        self.action_space = action_space\n",
    "        self.epsilon = epsilon\n",
    "        self.learning_rate = learning_rate\n",
    "        self.discount_factor = discount_factor\n",
    "\n",
    "        self.q_table = np.zeros((len(state_space), len(action_space)), dtype=float)\n",
    "\n",
    "    def get_action(self, state):\n",
    "        \"\"\"\n",
    "        Returns action based on Q table and epsilon-greedy policy.\n",
    "        엡실론 탐욕 정책과 Q테이블을 이용해 주어진 상태에서 할 행동을 반환합니다.\n",
    "        \"\"\"\n",
    "        if np.random.random() < self.epsilon:\n",
    "            return np.random.choice(self.action_space)\n",
    "        else:\n",
    "            best_actions = argmax_all(self.q_table[state])\n",
    "            return np.random.choice(best_actions)\n",
    "\n",
    "    def update_q(self, state, action, reward, next_state, done):\n",
    "        \"\"\"\n",
    "        Update Q table via SARSA.\n",
    "        SARSA를 통해 Q 테이블을 업데이트합니다.\n",
    "        \"\"\"\n",
    "        if done:\n",
    "            target = reward\n",
    "        else:\n",
    "            target = reward + self.discount_factor * self.q_table[next_state][self.get_action(next_state)]\n",
    "\n",
    "        self.q_table[state][action] = ((1 - self.learning_rate) * self.q_table[state][action]\n",
    "                                    + self.learning_rate * target)"
   ]
  },
  {
   "cell_type": "code",
   "execution_count": 6,
   "metadata": {},
   "outputs": [],
   "source": [
    "class QLearningAgent:\n",
    "    def __init__(self,\n",
    "                 state_space,\n",
    "                 action_space, \n",
    "                 epsilon=0.1,\n",
    "                 learning_rate=0.1,\n",
    "                 discount_factor=1):\n",
    "        \"\"\"\n",
    "        Initialize Q table and save environment.\n",
    "        Q 테이블을 초기화하고 주어진 환경을 보관합니다.\n",
    "        \"\"\"\n",
    "        self.state_space = state_space\n",
    "        self.action_space = action_space\n",
    "        self.epsilon = epsilon\n",
    "        self.learning_rate = learning_rate\n",
    "        self.discount_factor = discount_factor\n",
    "\n",
    "        self.q_table = np.zeros((len(state_space), len(action_space)), dtype=float)\n",
    "\n",
    "    def get_action(self, state):\n",
    "        \"\"\"\n",
    "        Returns action based on Q table and epsilon-greedy policy.\n",
    "        엡실론 탐욕 정책과 Q테이블을 이용해 주어진 상태에서 할 행동을 반환합니다.\n",
    "        \"\"\"\n",
    "        if np.random.random() < self.epsilon:\n",
    "            return np.random.choice(self.action_space)\n",
    "        else:\n",
    "            best_actions = argmax_all(self.q_table[state])\n",
    "            return np.random.choice(best_actions)\n",
    "\n",
    "    def update_q(self, state, action, reward, next_state, done):\n",
    "        \"\"\"\n",
    "        Update Q table via Q-Learning.\n",
    "        Q러닝을 통해 Q 테이블을 업데이트합니다.\n",
    "        \"\"\"\n",
    "        if done:\n",
    "            target = reward\n",
    "        else:\n",
    "            target = reward + self.discount_factor * np.max(self.q_table[next_state])\n",
    "\n",
    "        self.q_table[state][action] = ((1 - self.learning_rate) * self.q_table[state][action]\n",
    "                                    + self.learning_rate * target)"
   ]
  },
  {
   "cell_type": "markdown",
   "metadata": {},
   "source": [
    "## Plot"
   ]
  },
  {
   "cell_type": "code",
   "execution_count": 7,
   "metadata": {},
   "outputs": [],
   "source": [
    "def run_episode(env, agent):\n",
    "    state = env.reset()\n",
    "    done = False\n",
    "    total_reward = 0\n",
    "\n",
    "    while not done:\n",
    "        action = agent.get_action(1)\n",
    "        next_state, reward, done = env.step(action)\n",
    "        agent.update_q(state, action, reward, next_state, done)\n",
    "        state = next_state\n",
    "\n",
    "        total_reward += reward\n",
    "\n",
    "    return total_reward"
   ]
  },
  {
   "cell_type": "code",
   "execution_count": 16,
   "metadata": {},
   "outputs": [],
   "source": [
    "def plot(env, agents, n_episodes=500):\n",
    "    names = []\n",
    "    for name, agent in agents:\n",
    "        names.append(name)\n",
    "        total_rewards = np.zeros(n_episodes, dtype=float)\n",
    "        for i in range(n_episodes):\n",
    "            env.reset()\n",
    "            total_rewards[i] = run_episode(env, agent)\n",
    "\n",
    "        plt.plot(total_rewards)\n",
    "\n",
    "    plt.xlabel('Episodes')\n",
    "    plt.ylabel('Sum of rewards during episode')\n",
    "    plt.ylim(-100, -25)\n",
    "    plt.legend(names)\n",
    "    plt.show()"
   ]
  },
  {
   "cell_type": "code",
   "execution_count": 17,
   "metadata": {},
   "outputs": [
    {
     "data": {
      "image/png": "[encoded data removed]",
      "text/plain": [
       "<Figure size 432x288 with 1 Axes>"
      ]
     },
     "metadata": {
      "image/png": {
       "height": 263,
       "width": 399
      }
     },
     "output_type": "display_data"
    }
   ],
   "source": [
    "env = Environment()\n",
    "agents = [\n",
    "    ('SARSA', SarsaAgent(env.state_space, env.action_space)),\n",
    "    ('QLearning', QLearningAgent(env.state_space, env.action_space)),\n",
    "]\n",
    "# plot(env, agents)"
   ]
  },
  {
   "cell_type": "code",
   "execution_count": 25,
   "metadata": {},
   "outputs": [],
   "source": [
    "env = Environment()\n",
    "agent = SarsaAgent(env.state_space, env.action_space)\n",
    "\n",
    "for _ in range(1000):\n",
    "    run_episode(env, agent)"
   ]
  },
  {
   "cell_type": "code",
   "execution_count": 26,
   "metadata": {},
   "outputs": [
    {
     "name": "stdout",
     "output_type": "stream",
     "text": [
      "LRDUUUUUULLL\n",
      "UUUUDLUDDDLD\n",
      "UUUUUUUUUURD\n",
      "UUUUUUUUUUUU\n"
     ]
    }
   ],
   "source": [
    "for h in range(env.H):\n",
    "    for w in range(env.W):\n",
    "        best_action = Action(np.argmax(agent.q_table[h * env.W + w]))\n",
    "        if best_action == Action.RIGHT:\n",
    "            print('R', end='')\n",
    "        elif best_action == Action.LEFT:\n",
    "            print('L', end='')\n",
    "        elif best_action == Action.UP:\n",
    "            print('U', end='')\n",
    "        elif best_action == Action.DOWN:\n",
    "            print('D', end='')\n",
    "    print()"
   ]
  }
 ],
 "metadata": {
  "kernelspec": {
   "display_name": "Python [conda env:rlpg]",
   "language": "python",
   "name": "conda-env-rlpg-py"
  },
  "language_info": {
   "codemirror_mode": {
    "name": "ipython",
    "version": 3
   },
   "file_extension": ".py",
   "mimetype": "text/x-python",
   "name": "python",
   "nbconvert_exporter": "python",
   "pygments_lexer": "ipython3",
   "version": "3.6.5"
  }
 },
 "nbformat": 4,
 "nbformat_minor": 2
}
